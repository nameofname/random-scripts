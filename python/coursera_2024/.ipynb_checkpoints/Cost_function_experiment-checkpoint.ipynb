{
 "cells": [
  {
   "cell_type": "code",
   "execution_count": 2,
   "id": "c444b069-9e1c-43fc-ba0f-81e8f411463b",
   "metadata": {},
   "outputs": [],
   "source": [
    "import numpy as np\n",
    "import matplotlib.pyplot as plt"
   ]
  },
  {
   "cell_type": "code",
   "execution_count": 186,
   "id": "077f2714-09ed-4880-a91d-16615c7afe39",
   "metadata": {},
   "outputs": [],
   "source": [
    "x_train = np.array([1, 2, 3])\n",
    "y_train = np.array([2, 4, 6])\n"
   ]
  },
  {
   "cell_type": "code",
   "execution_count": 187,
   "id": "ddde35c8-43ff-4791-9f45-dcb6d4188894",
   "metadata": {},
   "outputs": [],
   "source": [
    "# Outputs the cost of a a simple guess, given w for f(x) = wx + b (here we ignore b)\n",
    "def cost(w): \n",
    "    cost=0\n",
    "    m=x_train.shape[0]\n",
    "    cost_sum=0\n",
    "    for n in range(m):\n",
    "        guess=w*x_train[n]\n",
    "        cost_sum += (guess - y_train[n])\n",
    "        # print(f\"W: {w}, guess: {guess}, actual: {y_train[n]}, cost_sum: {cost_sum}\")\n",
    "    result=cost_sum/(m * 2)\n",
    "    # print(f\"DONE... result: {result}\")\n",
    "    return result"
   ]
  },
  {
   "cell_type": "code",
   "execution_count": 188,
   "id": "e87a92b1-aa7d-49c2-9d15-14b552f2492d",
   "metadata": {},
   "outputs": [
    {
     "name": "stdout",
     "output_type": "stream",
     "text": [
      "-1.0 0.0 1.0\n"
     ]
    }
   ],
   "source": [
    "# the true 2 is 2\n",
    "cost1=cost(1)\n",
    "cost2=cost(2)\n",
    "cost3=cost(3)\n",
    "print(cost1, cost2, cost3)"
   ]
  },
  {
   "cell_type": "code",
   "execution_count": 191,
   "id": "7dfd0605-170c-4fa5-9a68-4d3b3a73529e",
   "metadata": {},
   "outputs": [
    {
     "name": "stdout",
     "output_type": "stream",
     "text": [
      "[-3.   -2.   -1.    0.    0.25  0.7   0.9   1.    2.  ]\n"
     ]
    }
   ],
   "source": [
    "# possible_w=np.array([-1,0,1,2,3,4])\n",
    "possible_w=np.array([-1,0,1,2,2.25,2.7,2.9,3,4])\n",
    "costs=np.array([cost(ww) for ww in possible_w])\n",
    "print(costs)"
   ]
  },
  {
   "cell_type": "code",
   "execution_count": 192,
   "id": "f3c453fe-5a08-4ba5-8ecb-c721667aa5b7",
   "metadata": {},
   "outputs": [
    {
     "name": "stdout",
     "output_type": "stream",
     "text": [
      "[-3.   -2.   -1.    0.    0.25  0.7   0.9   1.    2.  ]\n"
     ]
    },
    {
     "data": {
      "image/png": "[encoded data removed]",
      "text/plain": [
       "<Figure size 640x480 with 1 Axes>"
      ]
     },
     "metadata": {},
     "output_type": "display_data"
    }
   ],
   "source": [
    "print(costs)\n",
    "plt.scatter(np.array(possible_w), costs)\n",
    "plt.xlabel('Parameter W');\n",
    "plt.ylabel('Cost J(w)');\n",
    "plt.show()"
   ]
  },
  {
   "cell_type": "code",
   "execution_count": null,
   "id": "a1e52a61-0378-401a-9cf2-fae97b024e2a",
   "metadata": {},
   "outputs": [],
   "source": []
  },
  {
   "cell_type": "code",
   "execution_count": null,
   "id": "783efa0a-9797-43b9-92b1-89fb3a029e60",
   "metadata": {},
   "outputs": [],
   "source": []
  }
 ],
 "metadata": {
  "kernelspec": {
   "display_name": "Python 3 (ipykernel)",
   "language": "python",
   "name": "python3"
  },
  "language_info": {
   "codemirror_mode": {
    "name": "ipython",
    "version": 3
   },
   "file_extension": ".py",
   "mimetype": "text/x-python",
   "name": "python",
   "nbconvert_exporter": "python",
   "pygments_lexer": "ipython3",
   "version": "3.13.0"
  }
 },
 "nbformat": 4,
 "nbformat_minor": 5
}
